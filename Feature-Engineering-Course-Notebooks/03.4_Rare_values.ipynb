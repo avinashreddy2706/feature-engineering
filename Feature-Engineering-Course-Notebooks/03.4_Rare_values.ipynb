{
 "cells": [
  {
   "cell_type": "markdown",
   "metadata": {},
   "source": [
    "# Rare values\n",
    "\n",
    "## Labels that occur rarely\n",
    "\n",
    "Categorical variables are those which values are selected from a group of categories, also called labels. It is not unusual that different labels appear in  the dataset with different frequencies. Some categories may appear a lot in the dataset, whereas some other categories appear only in a few number of observations.\n",
    "\n",
    "Consider for example a dataset with information about loan applicants for the Lending Club data exercise where one of the variables is \"city where the applicant lives\". We can imagine that cities like 'New York' may appear a lot in the data set just because New York has a huge population. On the other hand, smaller towns like 'Leavenworth' will appear only on a few occasions (if at all, population < 2000 people), just because the population there is very small.\n",
    "\n",
    "Categorical variables in business datasets very often contain a few dominant labels that account for the majority of the observations and a large number of labels that appear only seldomly. \n",
    "\n",
    "### Are Rare Labels in a categorical variable a problem?\n",
    "\n",
    "Rare values can add a lot of information at the time of making an assessment or none at all. For example, consider a stockholder meeting where each person can vote in proportion to their number of shares. One of the shareholders owns 50% of the stock, and the other 999 shareholders own the remaining 50%. The outcome of the vote is largely influenced by the shareholder who holds the majority of the stock. The remaining shareholders may have an impact collectively, but they have virtually no impact individually. \n",
    "\n",
    "The same occurs in real life datasets. The label that is over-represented in the dataset tends to dominate the outcome, and those that are under-represented may have no impact individually, but could have an impact if considered collectively.\n",
    "\n",
    "More specifically,\n",
    "\n",
    "- Rare values in categorical variables tend to cause over-fitting, particularly in tree based methods.\n",
    "\n",
    "- A big number of infrequent labels adds noise, with little information, therefore causing over-fitting.\n",
    "\n",
    "- Rare labels may be present in training set, but not in test set, therefore causing over-fitting to the train set.\n",
    "\n",
    "- Rare labels may appear in the test set, and not in the train set. Thus, the machine learning model will not know how to evaluate it. \n",
    "\n",
    "\n",
    "**Note** Sometimes rare values, like outliers, are worth having a look at, in particular, when we are looking for rare instances (e.g., when the target is highly unbalanced). For example, if we are building a model to predict fraudulent applications, which are in essence rare, then a rare value in a certain variable, may be indeed important. This rare value could be telling us that the observation is most likely a fraudulent application, and therefore we would choose not to ignore it.\n",
    "\n",
    "I will show you how to tackle rare labels later in the course. Here I would like to give you an idea of how rare labels may affect the performance of machine learning algorithms. So, let's go ahead and see the effect of Rare Values in Categorical variables on Machine Learning models."
   ]
  },
  {
   "cell_type": "markdown",
   "metadata": {},
   "source": [
    "## Real Life example: \n",
    "\n",
    "### The Mercedes-Benz Greener Manufacturing challenge in Kaggle\n",
    "\n",
    "Daimler’s Mercedes-Benz cars are leaders in the premium car industry. With a huge selection of car features and options, customers can choose the customized Mercedes-Benz of their dreams.\n",
    "\n",
    "To ensure the safety and reliability of each and every unique car configuration before they hit the road, Daimler’s engineers have developed a robust testing system. Testing time varies depending on the different car features and options. The task is to predict the time it takes for a car with certain features to pass the testing. Therefore it is a regression problem: we need to estimate a continuous variable.\n",
    "\n",
    "The dataset contains a set of car features, the variable names are masked, so it is impossible to find out what each one of them means. The variable to predict is _y_: time to pass the testing."
   ]
  },
  {
   "cell_type": "markdown",
   "metadata": {},
   "source": [
    "====================================================================================================\n",
    "\n",
    "To download the Mercedes-Benz Greener Manufacturing dataset from Kaggle go ahead to this [website](https://www.kaggle.com/c/mercedes-benz-greener-manufacturing/data)\n",
    "\n",
    "Scroll down to the bottom of the page, and click on the link 'train.csv.zip', and then click the 'download' blue button towards the right of the screen, to download the dataset.\n",
    "Unzip it, and save it to a directory of your choice.\n",
    "\n",
    "**Note that you need to be logged in to Kaggle in order to download the datasets**.\n",
    "\n",
    "If you save it in the same directory from which you are running this notebook and name the file 'mercedesbenz.csv' then you can load it the same way I will load it below.\n",
    "\n",
    "===================================================================================================="
   ]
  },
  {
   "cell_type": "code",
   "execution_count": 1,
   "metadata": {
    "collapsed": true
   },
   "outputs": [],
   "source": [
    "import pandas as pd\n",
    "import numpy as np\n",
    "\n",
    "import matplotlib.pyplot as plt\n",
    "% matplotlib inline\n",
    "\n",
    "from sklearn.linear_model import LinearRegression\n",
    "from sklearn.ensemble import AdaBoostRegressor\n",
    "from sklearn.ensemble import RandomForestRegressor\n",
    "from sklearn.ensemble import GradientBoostingRegressor\n",
    "\n",
    "from sklearn.metrics import mean_squared_error, r2_score\n",
    "from sklearn.model_selection import train_test_split"
   ]
  },
  {
   "cell_type": "code",
   "execution_count": 34,
   "metadata": {},
   "outputs": [
    {
     "data": {
      "text/html": [
       "<div>\n",
       "<style>\n",
       "    .dataframe thead tr:only-child th {\n",
       "        text-align: right;\n",
       "    }\n",
       "\n",
       "    .dataframe thead th {\n",
       "        text-align: left;\n",
       "    }\n",
       "\n",
       "    .dataframe tbody tr th {\n",
       "        vertical-align: top;\n",
       "    }\n",
       "</style>\n",
       "<table border=\"1\" class=\"dataframe\">\n",
       "  <thead>\n",
       "    <tr style=\"text-align: right;\">\n",
       "      <th></th>\n",
       "      <th>y</th>\n",
       "      <th>X1</th>\n",
       "      <th>X2</th>\n",
       "      <th>X3</th>\n",
       "      <th>X6</th>\n",
       "    </tr>\n",
       "  </thead>\n",
       "  <tbody>\n",
       "    <tr>\n",
       "      <th>0</th>\n",
       "      <td>130.81</td>\n",
       "      <td>v</td>\n",
       "      <td>at</td>\n",
       "      <td>a</td>\n",
       "      <td>j</td>\n",
       "    </tr>\n",
       "    <tr>\n",
       "      <th>1</th>\n",
       "      <td>88.53</td>\n",
       "      <td>t</td>\n",
       "      <td>av</td>\n",
       "      <td>e</td>\n",
       "      <td>l</td>\n",
       "    </tr>\n",
       "    <tr>\n",
       "      <th>2</th>\n",
       "      <td>76.26</td>\n",
       "      <td>w</td>\n",
       "      <td>n</td>\n",
       "      <td>c</td>\n",
       "      <td>j</td>\n",
       "    </tr>\n",
       "    <tr>\n",
       "      <th>3</th>\n",
       "      <td>80.62</td>\n",
       "      <td>t</td>\n",
       "      <td>n</td>\n",
       "      <td>f</td>\n",
       "      <td>l</td>\n",
       "    </tr>\n",
       "    <tr>\n",
       "      <th>4</th>\n",
       "      <td>78.02</td>\n",
       "      <td>v</td>\n",
       "      <td>n</td>\n",
       "      <td>f</td>\n",
       "      <td>d</td>\n",
       "    </tr>\n",
       "  </tbody>\n",
       "</table>\n",
       "</div>"
      ],
      "text/plain": [
       "        y X1  X2 X3 X6\n",
       "0  130.81  v  at  a  j\n",
       "1   88.53  t  av  e  l\n",
       "2   76.26  w   n  c  j\n",
       "3   80.62  t   n  f  l\n",
       "4   78.02  v   n  f  d"
      ]
     },
     "execution_count": 34,
     "metadata": {},
     "output_type": "execute_result"
    }
   ],
   "source": [
    "# let's load the dataset with just the columns that we need for this exercise\n",
    "\n",
    "data = pd.read_csv('mercedesbenz.csv', usecols=['y','X1', 'X2', 'X3', 'X6'])\n",
    "data.head()"
   ]
  },
  {
   "cell_type": "code",
   "execution_count": 10,
   "metadata": {},
   "outputs": [
    {
     "data": {
      "text/plain": [
       "4209"
      ]
     },
     "execution_count": 10,
     "metadata": {},
     "output_type": "execute_result"
    }
   ],
   "source": [
    "len(data)"
   ]
  },
  {
   "cell_type": "code",
   "execution_count": 4,
   "metadata": {},
   "outputs": [
    {
     "data": {
      "text/plain": [
       "27"
      ]
     },
     "execution_count": 4,
     "metadata": {},
     "output_type": "execute_result"
    }
   ],
   "source": [
    "len(data['X1'].unique())"
   ]
  },
  {
   "cell_type": "markdown",
   "metadata": {},
   "source": [
    "Variable names and variable values are masked intentionally by Mercedes Benz. This is common practice in the industry, and it is done to protect intellectual property and personal information, if any."
   ]
  },
  {
   "cell_type": "code",
   "execution_count": 39,
   "metadata": {},
   "outputs": [
    {
     "name": "stdout",
     "output_type": "stream",
     "text": [
      "variable:  X1  number of labels:  27\n",
      "variable:  X2  number of labels:  44\n",
      "variable:  X3  number of labels:  7\n",
      "variable:  X6  number of labels:  12\n",
      "total cars:  4209\n"
     ]
    }
   ],
   "source": [
    "# let's check at the different number of labels within each variable\n",
    "cols_to_use = ['X1', 'X2', 'X3', 'X6']\n",
    "\n",
    "for col in cols_to_use:\n",
    "    print('variable: ', col, ' number of labels: ', len(data[col].unique()))\n",
    "    \n",
    "print('total cars: ', len(data))"
   ]
  },
  {
   "cell_type": "code",
   "execution_count": 22,
   "metadata": {},
   "outputs": [
    {
     "data": {
      "image/png": "[encoded data removed]",
      "text/plain": [
       "<matplotlib.figure.Figure at 0x20bab39af98>"
      ]
     },
     "metadata": {},
     "output_type": "display_data"
    }
   ],
   "source": [
    "fig = data['X1'].value_counts().plot.bar()\n",
    "fig.set_xlabel('X1')\n",
    "fig.set_ylabel('percentage of cars')\n",
    "plt.show()"
   ]
  },
  {
   "cell_type": "code",
   "execution_count": 14,
   "metadata": {},
   "outputs": [
    {
     "data": {
      "image/png": "[encoded data removed]",
      "text/plain": [
       "<matplotlib.figure.Figure at 0x20bab218630>"
      ]
     },
     "metadata": {},
     "output_type": "display_data"
    }
   ],
   "source": [
    "#percentage\n",
    "temp = pd.Series(data['X1'].value_counts() / len(data))\n",
    "fig = temp.plot.bar()\n",
    "fig.set_xlabel('X1')\n",
    "fig.set_ylabel('percentage of cars')\n",
    "plt.show()"
   ]
  },
  {
   "cell_type": "code",
   "execution_count": 40,
   "metadata": {},
   "outputs": [
    {
     "data": {
      "image/png": "[encoded data removed]",
      "text/plain": [
       "<matplotlib.figure.Figure at 0x20bb05f3128>"
      ]
     },
     "metadata": {},
     "output_type": "display_data"
    },
    {
     "data": {
      "image/png": "[encoded data removed]",
      "text/plain": [
       "<matplotlib.figure.Figure at 0x20bab06a550>"
      ]
     },
     "metadata": {},
     "output_type": "display_data"
    },
    {
     "data": {
      "image/png": "[encoded data removed]",
      "text/plain": [
       "<matplotlib.figure.Figure at 0x20bafd51be0>"
      ]
     },
     "metadata": {},
     "output_type": "display_data"
    },
    {
     "data": {
      "image/png": "[encoded data removed]",
      "text/plain": [
       "<matplotlib.figure.Figure at 0x20bab238198>"
      ]
     },
     "metadata": {},
     "output_type": "display_data"
    }
   ],
   "source": [
    "# let's plot how frequently appears each label \n",
    "# within a variable in the dataset\n",
    "\n",
    "total_cars = len(data)\n",
    "\n",
    "for col in cols_to_use:\n",
    "    # count the number of observations per label and divide by total \n",
    "    # number of cars\n",
    "    temp_df = pd.Series(data[col].value_counts() / total_cars)\n",
    "    \n",
    "    # make plot with the above percentages\n",
    "    fig = temp_df.sort_values(ascending=False).plot.bar()\n",
    "    fig.set_xlabel(col)\n",
    "    fig.set_ylabel('percentage of cars')\n",
    "    plt.show()"
   ]
  },
  {
   "cell_type": "markdown",
   "metadata": {},
   "source": [
    "We can see that for each of the above variables, some labels appear in more than 10% of the cars in the dataset, and very many appear in less than 10% or even 5% of the cars. These are infrequent labels or **Rare Values** and could cause over-fitting.\n",
    "\n",
    "### How is the target, \"time to pass testing\", related to these categories?"
   ]
  },
  {
   "cell_type": "code",
   "execution_count": 46,
   "metadata": {},
   "outputs": [
    {
     "data": {
      "text/html": [
       "<div>\n",
       "<style>\n",
       "    .dataframe thead tr:only-child th {\n",
       "        text-align: right;\n",
       "    }\n",
       "\n",
       "    .dataframe thead th {\n",
       "        text-align: left;\n",
       "    }\n",
       "\n",
       "    .dataframe tbody tr th {\n",
       "        vertical-align: top;\n",
       "    }\n",
       "</style>\n",
       "<table border=\"1\" class=\"dataframe\">\n",
       "  <thead>\n",
       "    <tr style=\"text-align: right;\">\n",
       "      <th></th>\n",
       "      <th>X3</th>\n",
       "      <th>X3_perc_cars</th>\n",
       "    </tr>\n",
       "  </thead>\n",
       "  <tbody>\n",
       "    <tr>\n",
       "      <th>0</th>\n",
       "      <td>c</td>\n",
       "      <td>0.461392</td>\n",
       "    </tr>\n",
       "    <tr>\n",
       "      <th>1</th>\n",
       "      <td>f</td>\n",
       "      <td>0.255643</td>\n",
       "    </tr>\n",
       "    <tr>\n",
       "      <th>2</th>\n",
       "      <td>a</td>\n",
       "      <td>0.104538</td>\n",
       "    </tr>\n",
       "    <tr>\n",
       "      <th>3</th>\n",
       "      <td>d</td>\n",
       "      <td>0.068900</td>\n",
       "    </tr>\n",
       "    <tr>\n",
       "      <th>4</th>\n",
       "      <td>g</td>\n",
       "      <td>0.057258</td>\n",
       "    </tr>\n",
       "    <tr>\n",
       "      <th>5</th>\n",
       "      <td>e</td>\n",
       "      <td>0.038727</td>\n",
       "    </tr>\n",
       "    <tr>\n",
       "      <th>6</th>\n",
       "      <td>b</td>\n",
       "      <td>0.013542</td>\n",
       "    </tr>\n",
       "  </tbody>\n",
       "</table>\n",
       "</div>"
      ],
      "text/plain": [
       "  X3  X3_perc_cars\n",
       "0  c      0.461392\n",
       "1  f      0.255643\n",
       "2  a      0.104538\n",
       "3  d      0.068900\n",
       "4  g      0.057258\n",
       "5  e      0.038727\n",
       "6  b      0.013542"
      ]
     },
     "execution_count": 46,
     "metadata": {},
     "output_type": "execute_result"
    }
   ],
   "source": [
    "# I will work first the the variable X3\n",
    "\n",
    "# Let's calculate again the frequency of the different categories/labels\n",
    "# in X3\n",
    "\n",
    "temp_df = pd.Series(data['X3'].value_counts() / total_cars).reset_index()\n",
    "temp_df.columns = ['X3', 'X3_perc_cars']\n",
    "temp_df"
   ]
  },
  {
   "cell_type": "code",
   "execution_count": 41,
   "metadata": {
    "scrolled": true
   },
   "outputs": [
    {
     "data": {
      "text/html": [
       "<div>\n",
       "<style>\n",
       "    .dataframe thead tr:only-child th {\n",
       "        text-align: right;\n",
       "    }\n",
       "\n",
       "    .dataframe thead th {\n",
       "        text-align: left;\n",
       "    }\n",
       "\n",
       "    .dataframe tbody tr th {\n",
       "        vertical-align: top;\n",
       "    }\n",
       "</style>\n",
       "<table border=\"1\" class=\"dataframe\">\n",
       "  <thead>\n",
       "    <tr style=\"text-align: right;\">\n",
       "      <th></th>\n",
       "      <th>X3</th>\n",
       "      <th>y</th>\n",
       "    </tr>\n",
       "  </thead>\n",
       "  <tbody>\n",
       "    <tr>\n",
       "      <th>0</th>\n",
       "      <td>a</td>\n",
       "      <td>102.507477</td>\n",
       "    </tr>\n",
       "    <tr>\n",
       "      <th>1</th>\n",
       "      <td>b</td>\n",
       "      <td>100.239649</td>\n",
       "    </tr>\n",
       "    <tr>\n",
       "      <th>2</th>\n",
       "      <td>c</td>\n",
       "      <td>101.959269</td>\n",
       "    </tr>\n",
       "    <tr>\n",
       "      <th>3</th>\n",
       "      <td>d</td>\n",
       "      <td>105.114414</td>\n",
       "    </tr>\n",
       "    <tr>\n",
       "      <th>4</th>\n",
       "      <td>e</td>\n",
       "      <td>100.033190</td>\n",
       "    </tr>\n",
       "    <tr>\n",
       "      <th>5</th>\n",
       "      <td>f</td>\n",
       "      <td>96.564507</td>\n",
       "    </tr>\n",
       "    <tr>\n",
       "      <th>6</th>\n",
       "      <td>g</td>\n",
       "      <td>100.428672</td>\n",
       "    </tr>\n",
       "  </tbody>\n",
       "</table>\n",
       "</div>"
      ],
      "text/plain": [
       "  X3           y\n",
       "0  a  102.507477\n",
       "1  b  100.239649\n",
       "2  c  101.959269\n",
       "3  d  105.114414\n",
       "4  e  100.033190\n",
       "5  f   96.564507\n",
       "6  g  100.428672"
      ]
     },
     "execution_count": 41,
     "metadata": {},
     "output_type": "execute_result"
    }
   ],
   "source": [
    "# now let's calculate the mean \"time to pass testing\"\n",
    "# for each label in X3\n",
    "\n",
    "data.groupby(['X3'])['y'].mean().reset_index()"
   ]
  },
  {
   "cell_type": "code",
   "execution_count": 47,
   "metadata": {},
   "outputs": [
    {
     "data": {
      "text/html": [
       "<div>\n",
       "<style>\n",
       "    .dataframe thead tr:only-child th {\n",
       "        text-align: right;\n",
       "    }\n",
       "\n",
       "    .dataframe thead th {\n",
       "        text-align: left;\n",
       "    }\n",
       "\n",
       "    .dataframe tbody tr th {\n",
       "        vertical-align: top;\n",
       "    }\n",
       "</style>\n",
       "<table border=\"1\" class=\"dataframe\">\n",
       "  <thead>\n",
       "    <tr style=\"text-align: right;\">\n",
       "      <th></th>\n",
       "      <th>X3</th>\n",
       "      <th>X3_perc_cars</th>\n",
       "      <th>y</th>\n",
       "    </tr>\n",
       "  </thead>\n",
       "  <tbody>\n",
       "    <tr>\n",
       "      <th>0</th>\n",
       "      <td>c</td>\n",
       "      <td>0.461392</td>\n",
       "      <td>101.959269</td>\n",
       "    </tr>\n",
       "    <tr>\n",
       "      <th>1</th>\n",
       "      <td>f</td>\n",
       "      <td>0.255643</td>\n",
       "      <td>96.564507</td>\n",
       "    </tr>\n",
       "    <tr>\n",
       "      <th>2</th>\n",
       "      <td>a</td>\n",
       "      <td>0.104538</td>\n",
       "      <td>102.507477</td>\n",
       "    </tr>\n",
       "    <tr>\n",
       "      <th>3</th>\n",
       "      <td>d</td>\n",
       "      <td>0.068900</td>\n",
       "      <td>105.114414</td>\n",
       "    </tr>\n",
       "    <tr>\n",
       "      <th>4</th>\n",
       "      <td>g</td>\n",
       "      <td>0.057258</td>\n",
       "      <td>100.428672</td>\n",
       "    </tr>\n",
       "    <tr>\n",
       "      <th>5</th>\n",
       "      <td>e</td>\n",
       "      <td>0.038727</td>\n",
       "      <td>100.033190</td>\n",
       "    </tr>\n",
       "    <tr>\n",
       "      <th>6</th>\n",
       "      <td>b</td>\n",
       "      <td>0.013542</td>\n",
       "      <td>100.239649</td>\n",
       "    </tr>\n",
       "  </tbody>\n",
       "</table>\n",
       "</div>"
      ],
      "text/plain": [
       "  X3  X3_perc_cars           y\n",
       "0  c      0.461392  101.959269\n",
       "1  f      0.255643   96.564507\n",
       "2  a      0.104538  102.507477\n",
       "3  d      0.068900  105.114414\n",
       "4  g      0.057258  100.428672\n",
       "5  e      0.038727  100.033190\n",
       "6  b      0.013542  100.239649"
      ]
     },
     "execution_count": 47,
     "metadata": {},
     "output_type": "execute_result"
    }
   ],
   "source": [
    "# Let's combine the 2 previous dataframes\n",
    "# I will merge the second dataframe with the mean\n",
    "# time to pass testing onto the first one with the\n",
    "# frequency of labels (which I called temp_df)\n",
    "\n",
    "temp_df = temp_df.merge(\n",
    "    data.groupby(['X3'])['y'].mean().reset_index(), on='X3', how='left')\n",
    "\n",
    "temp_df"
   ]
  },
  {
   "cell_type": "code",
   "execution_count": 48,
   "metadata": {},
   "outputs": [
    {
     "data": {
      "text/plain": [
       "Text(0,0.5,'Seconds')"
      ]
     },
     "execution_count": 48,
     "metadata": {},
     "output_type": "execute_result"
    },
    {
     "data": {
      "image/png": "[encoded data removed]",
      "text/plain": [
       "<matplotlib.figure.Figure at 0x20bade515c0>"
      ]
     },
     "metadata": {},
     "output_type": "display_data"
    }
   ],
   "source": [
    "# Let's make a combined plot of the label frequency and\n",
    "# the time to pass testing.\n",
    "# This will help us  visualise the relationship between the\n",
    "# target and the labels of X3\n",
    "\n",
    "fig, ax = plt.subplots(figsize=(8, 4))\n",
    "plt.xticks(temp_df.index, temp_df['X3'], rotation=0)\n",
    "\n",
    "ax2 = ax.twinx()\n",
    "ax.bar(temp_df.index, temp_df[\"X3_perc_cars\"], color='lightgrey')\n",
    "ax2.plot(temp_df.index, temp_df[\"y\"], color='green', label='Seconds')\n",
    "ax.set_ylabel('percentage of cars per category')\n",
    "ax2.set_ylabel('Seconds')"
   ]
  },
  {
   "cell_type": "markdown",
   "metadata": {},
   "source": [
    "Cars where X3 is f pass the test relatively quickly, whereas cars with the category d seem to take a longer time to pass the test.\n",
    "\n",
    "Cars where X3 is b, take around 100 seconds to pass the test. However, b is present in less than 10% of the cars. Why is this important? Well, because if we do not have a lot of cars to learn from, we could be under or over-estimating the effect if b on the time to pass a test.\n",
    "\n",
    "In the next cell, I will combine all the above lines of code in a loop, and repeat the exercise for the remaining variables."
   ]
  },
  {
   "cell_type": "code",
   "execution_count": 45,
   "metadata": {},
   "outputs": [
    {
     "data": {
      "image/png": "[encoded data removed]",
      "text/plain": [
       "<matplotlib.figure.Figure at 0x20bab3a5630>"
      ]
     },
     "metadata": {},
     "output_type": "display_data"
    },
    {
     "data": {
      "image/png": "[encoded data removed]",
      "text/plain": [
       "<matplotlib.figure.Figure at 0x20bab77b080>"
      ]
     },
     "metadata": {},
     "output_type": "display_data"
    },
    {
     "data": {
      "image/png": "[encoded data removed]",
      "text/plain": [
       "<matplotlib.figure.Figure at 0x20bab450320>"
      ]
     },
     "metadata": {},
     "output_type": "display_data"
    },
    {
     "data": {
      "image/png": "[encoded data removed]",
      "text/plain": [
       "<matplotlib.figure.Figure at 0x20baa9e1240>"
      ]
     },
     "metadata": {},
     "output_type": "display_data"
    }
   ],
   "source": [
    "# let's automate the above process for all the categorical variables\n",
    "\n",
    "for col in cols_to_use:\n",
    "    # calculate the frequency of the different labels in the variable\n",
    "    temp_df = pd.Series(data[col].value_counts() / total_cars).reset_index()\n",
    "\n",
    "    # rename the columns\n",
    "    temp_df.columns = [col, col + '_perc_cars']\n",
    "\n",
    "    # merge onto the mean time to pass the test\n",
    "    temp_df = temp_df.merge(\n",
    "        data.groupby([col])['y'].mean().reset_index(), on=col, how='left')\n",
    "\n",
    "    # plot the figure as shown above\n",
    "    fig, ax = plt.subplots(figsize=(8, 4))\n",
    "    plt.xticks(temp_df.index, temp_df[col], rotation=0)\n",
    "    ax2 = ax.twinx()\n",
    "\n",
    "    ax.bar(\n",
    "        temp_df.index,\n",
    "        temp_df[col + '_perc_cars'],\n",
    "        color='lightgrey',\n",
    "        label=col)\n",
    "\n",
    "    ax2.plot(\n",
    "        temp_df.index,\n",
    "        temp_df[\"y\"],\n",
    "        color='green',\n",
    "    )\n",
    "\n",
    "    ax.set_ylabel('percentage of cars per category')\n",
    "    ax2.set_ylabel('Seconds')\n",
    "    ax.legend()\n",
    "    plt.show()"
   ]
  },
  {
   "cell_type": "markdown",
   "metadata": {},
   "source": [
    "Different labels within each variable seem to have a different influence in the time to pass the test. Take your time to explore the graphs and draw some conclusions.\n",
    "\n",
    "Look then in particular at the variable X2: in the plot, the target \"y\" varies a lot among the rare categories. It goes up and down over the infrequent categories. In fact, it looks quite noisy. This rare labels could indeed be very predictive, or they could be introducing noise rather than information. And because the labels are under-represented among the cars, we are unsure whether they have a true impact on the time to pass. We could be under or over-estimating their impact due to the fact that we have information for few cars.\n",
    "\n",
    "This plot would bring more value, if we plotted the errors of the mean time to pass the test. This would give us an idea of how much the mean value of the target varies within each label. Why don't you go ahead and do so? Plot first the distribution of the target y. If it is somewhat normal, then the error will be the standard deviation. Otherwise you can plot the interquantile range."
   ]
  },
  {
   "cell_type": "markdown",
   "metadata": {},
   "source": [
    "### Remove rare labels: grouping under a new label\n",
    "\n",
    "One way of tackling rare or infrequent values, is to group them under an umbrella category called 'Rare' or 'Other'. I will say more on this in a dedicated section of the course. Now I will group infrequent labels in each of the variables into one category called 'Rare' because I want to show you how this affects the performance of machine learning algorithms."
   ]
  },
  {
   "cell_type": "code",
   "execution_count": 10,
   "metadata": {
    "scrolled": true
   },
   "outputs": [
    {
     "data": {
      "text/plain": [
       "aa    0.197909\n",
       "s     0.142077\n",
       "b     0.140651\n",
       "l     0.140176\n",
       "v     0.096935\n",
       "r     0.059634\n",
       "i     0.048230\n",
       "a     0.033975\n",
       "c     0.028748\n",
       "o     0.019482\n",
       "w     0.012354\n",
       "z     0.010929\n",
       "u     0.008791\n",
       "e     0.007840\n",
       "m     0.007603\n",
       "t     0.007365\n",
       "h     0.006890\n",
       "y     0.005464\n",
       "f     0.005464\n",
       "j     0.005227\n",
       "n     0.004514\n",
       "k     0.004039\n",
       "p     0.002138\n",
       "g     0.001426\n",
       "d     0.000713\n",
       "ab    0.000713\n",
       "q     0.000713\n",
       "Name: X1, dtype: float64"
      ]
     },
     "execution_count": 10,
     "metadata": {},
     "output_type": "execute_result"
    }
   ],
   "source": [
    "# grouping rare labels into one category\n",
    "\n",
    "# I will replace all the labels that appear in less than 10%\n",
    "# of the observations by the new label 'rare'\n",
    "\n",
    "# first I calculate the frequency of the categories\n",
    "# or in other words, the % of cars in each category for  \n",
    "# the variable X1\n",
    "\n",
    "temp_df = pd.Series(data['X1'].value_counts() / total_cars)\n",
    "temp_df.sort_values(ascending=False)\n",
    "temp_df"
   ]
  },
  {
   "cell_type": "code",
   "execution_count": 11,
   "metadata": {},
   "outputs": [
    {
     "data": {
      "text/plain": [
       "Index(['aa', 's', 'b', 'l'], dtype='object')"
      ]
     },
     "execution_count": 11,
     "metadata": {},
     "output_type": "execute_result"
    }
   ],
   "source": [
    "# visualise those labels that appear in\n",
    "# more than 10 % of the cars\n",
    "temp_df[temp_df >= 0.1].index"
   ]
  },
  {
   "cell_type": "markdown",
   "metadata": {},
   "source": [
    "Only 4 categories are relatively common across the different cars. The remaining appear only in a few cars. Therefore, how they affect the time to pass the test is difficult to know with certainty."
   ]
  },
  {
   "cell_type": "code",
   "execution_count": 13,
   "metadata": {
    "scrolled": true
   },
   "outputs": [
    {
     "data": {
      "text/plain": [
       "{'a': 'rare',\n",
       " 'aa': 'aa',\n",
       " 'ab': 'rare',\n",
       " 'b': 'b',\n",
       " 'c': 'rare',\n",
       " 'd': 'rare',\n",
       " 'e': 'rare',\n",
       " 'f': 'rare',\n",
       " 'g': 'rare',\n",
       " 'h': 'rare',\n",
       " 'i': 'rare',\n",
       " 'j': 'rare',\n",
       " 'k': 'rare',\n",
       " 'l': 'l',\n",
       " 'm': 'rare',\n",
       " 'n': 'rare',\n",
       " 'o': 'rare',\n",
       " 'p': 'rare',\n",
       " 'q': 'rare',\n",
       " 'r': 'rare',\n",
       " 's': 's',\n",
       " 't': 'rare',\n",
       " 'u': 'rare',\n",
       " 'v': 'rare',\n",
       " 'w': 'rare',\n",
       " 'y': 'rare',\n",
       " 'z': 'rare'}"
      ]
     },
     "execution_count": 13,
     "metadata": {},
     "output_type": "execute_result"
    }
   ],
   "source": [
    "# let's create a dictionary to replace the rare labels with the\n",
    "# string 'rare'\n",
    "\n",
    "grouping_dict = {\n",
    "    k: ('rare' if k not in temp_df[temp_df >= 0.1].index else k)\n",
    "    for k in temp_df.index\n",
    "}\n",
    "\n",
    "grouping_dict"
   ]
  },
  {
   "cell_type": "markdown",
   "metadata": {},
   "source": [
    "If the category appears in > 10% of the cars, then we keep its name, otherwise, we will replace their name by 'rare', using the dictionary created above.\n"
   ]
  },
  {
   "cell_type": "code",
   "execution_count": 14,
   "metadata": {},
   "outputs": [
    {
     "data": {
      "text/html": [
       "<div>\n",
       "<style>\n",
       "    .dataframe thead tr:only-child th {\n",
       "        text-align: right;\n",
       "    }\n",
       "\n",
       "    .dataframe thead th {\n",
       "        text-align: left;\n",
       "    }\n",
       "\n",
       "    .dataframe tbody tr th {\n",
       "        vertical-align: top;\n",
       "    }\n",
       "</style>\n",
       "<table border=\"1\" class=\"dataframe\">\n",
       "  <thead>\n",
       "    <tr style=\"text-align: right;\">\n",
       "      <th></th>\n",
       "      <th>X1</th>\n",
       "      <th>X1_grouped</th>\n",
       "    </tr>\n",
       "  </thead>\n",
       "  <tbody>\n",
       "    <tr>\n",
       "      <th>0</th>\n",
       "      <td>v</td>\n",
       "      <td>rare</td>\n",
       "    </tr>\n",
       "    <tr>\n",
       "      <th>1</th>\n",
       "      <td>t</td>\n",
       "      <td>rare</td>\n",
       "    </tr>\n",
       "    <tr>\n",
       "      <th>2</th>\n",
       "      <td>w</td>\n",
       "      <td>rare</td>\n",
       "    </tr>\n",
       "    <tr>\n",
       "      <th>3</th>\n",
       "      <td>t</td>\n",
       "      <td>rare</td>\n",
       "    </tr>\n",
       "    <tr>\n",
       "      <th>4</th>\n",
       "      <td>v</td>\n",
       "      <td>rare</td>\n",
       "    </tr>\n",
       "    <tr>\n",
       "      <th>5</th>\n",
       "      <td>b</td>\n",
       "      <td>b</td>\n",
       "    </tr>\n",
       "    <tr>\n",
       "      <th>6</th>\n",
       "      <td>r</td>\n",
       "      <td>rare</td>\n",
       "    </tr>\n",
       "    <tr>\n",
       "      <th>7</th>\n",
       "      <td>l</td>\n",
       "      <td>l</td>\n",
       "    </tr>\n",
       "    <tr>\n",
       "      <th>8</th>\n",
       "      <td>s</td>\n",
       "      <td>s</td>\n",
       "    </tr>\n",
       "    <tr>\n",
       "      <th>9</th>\n",
       "      <td>b</td>\n",
       "      <td>b</td>\n",
       "    </tr>\n",
       "  </tbody>\n",
       "</table>\n",
       "</div>"
      ],
      "text/plain": [
       "  X1 X1_grouped\n",
       "0  v       rare\n",
       "1  t       rare\n",
       "2  w       rare\n",
       "3  t       rare\n",
       "4  v       rare\n",
       "5  b          b\n",
       "6  r       rare\n",
       "7  l          l\n",
       "8  s          s\n",
       "9  b          b"
      ]
     },
     "execution_count": 14,
     "metadata": {},
     "output_type": "execute_result"
    }
   ],
   "source": [
    "# now we replace the categories\n",
    "\n",
    "data['X1_grouped'] = data['X1'].map(grouping_dict)\n",
    "data[['X1', 'X1_grouped']].head(10)"
   ]
  },
  {
   "cell_type": "code",
   "execution_count": 16,
   "metadata": {},
   "outputs": [
    {
     "data": {
      "text/plain": [
       "['X1', 'X2', 'X3', 'X6']"
      ]
     },
     "execution_count": 16,
     "metadata": {},
     "output_type": "execute_result"
    }
   ],
   "source": [
    "cols_to_use"
   ]
  },
  {
   "cell_type": "code",
   "execution_count": 17,
   "metadata": {},
   "outputs": [
    {
     "data": {
      "text/html": [
       "<div>\n",
       "<style>\n",
       "    .dataframe thead tr:only-child th {\n",
       "        text-align: right;\n",
       "    }\n",
       "\n",
       "    .dataframe thead th {\n",
       "        text-align: left;\n",
       "    }\n",
       "\n",
       "    .dataframe tbody tr th {\n",
       "        vertical-align: top;\n",
       "    }\n",
       "</style>\n",
       "<table border=\"1\" class=\"dataframe\">\n",
       "  <thead>\n",
       "    <tr style=\"text-align: right;\">\n",
       "      <th></th>\n",
       "      <th>y</th>\n",
       "      <th>X1</th>\n",
       "      <th>X2</th>\n",
       "      <th>X3</th>\n",
       "      <th>X6</th>\n",
       "      <th>X1_grouped</th>\n",
       "      <th>X2_grouped</th>\n",
       "      <th>X3_grouped</th>\n",
       "      <th>X6_grouped</th>\n",
       "    </tr>\n",
       "  </thead>\n",
       "  <tbody>\n",
       "    <tr>\n",
       "      <th>0</th>\n",
       "      <td>130.81</td>\n",
       "      <td>v</td>\n",
       "      <td>at</td>\n",
       "      <td>a</td>\n",
       "      <td>j</td>\n",
       "      <td>rare</td>\n",
       "      <td>rare</td>\n",
       "      <td>a</td>\n",
       "      <td>j</td>\n",
       "    </tr>\n",
       "    <tr>\n",
       "      <th>1</th>\n",
       "      <td>88.53</td>\n",
       "      <td>t</td>\n",
       "      <td>av</td>\n",
       "      <td>e</td>\n",
       "      <td>l</td>\n",
       "      <td>rare</td>\n",
       "      <td>rare</td>\n",
       "      <td>rare</td>\n",
       "      <td>l</td>\n",
       "    </tr>\n",
       "    <tr>\n",
       "      <th>2</th>\n",
       "      <td>76.26</td>\n",
       "      <td>w</td>\n",
       "      <td>n</td>\n",
       "      <td>c</td>\n",
       "      <td>j</td>\n",
       "      <td>rare</td>\n",
       "      <td>rare</td>\n",
       "      <td>c</td>\n",
       "      <td>j</td>\n",
       "    </tr>\n",
       "    <tr>\n",
       "      <th>3</th>\n",
       "      <td>80.62</td>\n",
       "      <td>t</td>\n",
       "      <td>n</td>\n",
       "      <td>f</td>\n",
       "      <td>l</td>\n",
       "      <td>rare</td>\n",
       "      <td>rare</td>\n",
       "      <td>f</td>\n",
       "      <td>l</td>\n",
       "    </tr>\n",
       "    <tr>\n",
       "      <th>4</th>\n",
       "      <td>78.02</td>\n",
       "      <td>v</td>\n",
       "      <td>n</td>\n",
       "      <td>f</td>\n",
       "      <td>d</td>\n",
       "      <td>rare</td>\n",
       "      <td>rare</td>\n",
       "      <td>f</td>\n",
       "      <td>d</td>\n",
       "    </tr>\n",
       "  </tbody>\n",
       "</table>\n",
       "</div>"
      ],
      "text/plain": [
       "        y X1  X2 X3 X6 X1_grouped X2_grouped X3_grouped X6_grouped\n",
       "0  130.81  v  at  a  j       rare       rare          a          j\n",
       "1   88.53  t  av  e  l       rare       rare       rare          l\n",
       "2   76.26  w   n  c  j       rare       rare          c          j\n",
       "3   80.62  t   n  f  l       rare       rare          f          l\n",
       "4   78.02  v   n  f  d       rare       rare          f          d"
      ]
     },
     "execution_count": 17,
     "metadata": {},
     "output_type": "execute_result"
    }
   ],
   "source": [
    "# let's automate the replacement of infrequent categories\n",
    "# by the label 'rare' in the remaining categorical variables\n",
    "\n",
    "# I start from 1 because I already replaced the first variable in\n",
    "# the list\n",
    "for col in cols_to_use[1:]:\n",
    "    \n",
    "    # calculate the % of cars in each category\n",
    "    temp_df = pd.Series(data[col].value_counts() / total_cars)\n",
    "\n",
    "    # create a dictionary to replace the rare labels with the\n",
    "    # string 'rare'\n",
    "    grouping_dict = {\n",
    "        k: ('rare' if k not in temp_df[temp_df >= 0.1].index else k)\n",
    "        for k in temp_df.index\n",
    "    }\n",
    "    \n",
    "    # replace the rare labels\n",
    "    data[col + '_grouped'] = data[col].map(grouping_dict)\n",
    "\n",
    "data.head()"
   ]
  },
  {
   "cell_type": "code",
   "execution_count": 18,
   "metadata": {},
   "outputs": [
    {
     "data": {
      "image/png": "[encoded data removed]",
      "text/plain": [
       "<matplotlib.figure.Figure at 0x273052b9e8>"
      ]
     },
     "metadata": {},
     "output_type": "display_data"
    },
    {
     "data": {
      "image/png": "[encoded data removed]",
      "text/plain": [
       "<matplotlib.figure.Figure at 0x272fcf1f98>"
      ]
     },
     "metadata": {},
     "output_type": "display_data"
    },
    {
     "data": {
      "image/png": "[encoded data removed]",
      "text/plain": [
       "<matplotlib.figure.Figure at 0x27306c0978>"
      ]
     },
     "metadata": {},
     "output_type": "display_data"
    },
    {
     "data": {
      "image/png": "[encoded data removed]",
      "text/plain": [
       "<matplotlib.figure.Figure at 0x2730637e10>"
      ]
     },
     "metadata": {},
     "output_type": "display_data"
    }
   ],
   "source": [
    "# let's go ahead and plot the bar plots indicating the % of cars per\n",
    "# label and the time to pass the test, for each of the new variables\n",
    "\n",
    "for col in ['X1_grouped', 'X2_grouped', 'X3_grouped', 'X6_grouped']:\n",
    "    \n",
    "    # calculate the frequency of the different labels in the variable\n",
    "    temp_df = pd.Series(data[col].value_counts() / total_cars).reset_index()\n",
    "\n",
    "    # rename the columns\n",
    "    temp_df.columns = [col, col + '_perc_cars']\n",
    "\n",
    "    # merge onto the mean time to pass the test\n",
    "    temp_df = temp_df.merge(\n",
    "        data.groupby([col])['y'].mean().reset_index(), on=col, how='left')\n",
    "\n",
    "    # plot\n",
    "    fig, ax = plt.subplots(figsize=(8, 4))\n",
    "    plt.xticks(temp_df.index, temp_df[col], rotation=0)\n",
    "    ax2 = ax.twinx()\n",
    "\n",
    "    ax.bar(\n",
    "        temp_df.index,\n",
    "        temp_df[col + '_perc_cars'],\n",
    "        color='lightgrey',\n",
    "        label=col)\n",
    "\n",
    "    ax2.plot(\n",
    "        temp_df.index,\n",
    "        temp_df[\"y\"],\n",
    "        color='green',\n",
    "    )\n",
    "\n",
    "    ax.set_ylabel('percentage of cars per category')\n",
    "    ax2.set_ylabel('Seconds')\n",
    "    ax.legend()\n",
    "    plt.show()"
   ]
  },
  {
   "cell_type": "markdown",
   "metadata": {},
   "source": [
    "Here we can see for example, that cars with the the label f for variable X3, tend to spend less time in testing, and all the infrequent labels together tend to behave overall like the features c and a as well, in terms of time to pass the test.\n",
    "\n",
    "In the ideal scenario, we would also like to have the standard deviation / interquantile range for the time to pass the test, to get an idea of how variable the time to pass is for each category."
   ]
  },
  {
   "cell_type": "markdown",
   "metadata": {},
   "source": [
    "### Rare labels lead to uneven distribution of categories in train and test sets\n",
    "\n",
    "Similarly to highly cardinal variables, rare or infrequent labels often land only on the training set, or only on the testing set. If present only in the training set, they may lead to overfitting. If present only on the testing set, the machine learning algorithm will not know how to handle them, as it has not seen it during training. Let's explore this further."
   ]
  },
  {
   "cell_type": "code",
   "execution_count": 19,
   "metadata": {},
   "outputs": [
    {
     "data": {
      "text/plain": [
       "((2946, 4), (1263, 4))"
      ]
     },
     "execution_count": 19,
     "metadata": {},
     "output_type": "execute_result"
    }
   ],
   "source": [
    "# let's separate into training and testing set\n",
    "X_train, X_test, y_train, y_test = train_test_split(\n",
    "    data[cols_to_use], data.y, test_size=0.3, random_state=0)\n",
    "\n",
    "X_train.shape, X_test.shape"
   ]
  },
  {
   "cell_type": "code",
   "execution_count": 20,
   "metadata": {},
   "outputs": [
    {
     "name": "stdout",
     "output_type": "stream",
     "text": [
      "['l', 'aa', 'au', 'o', 'af', 'c', 'am']\n"
     ]
    }
   ],
   "source": [
    "# Let's find out labels present only in the training set\n",
    "# I will use X2 as example\n",
    "\n",
    "unique_to_train_set = [\n",
    "    x for x in X_train['X2'].unique() if x not in X_test['X2'].unique()\n",
    "]\n",
    "\n",
    "print(unique_to_train_set)"
   ]
  },
  {
   "cell_type": "markdown",
   "metadata": {},
   "source": [
    "There are 7 categories present in the train set and are not present in the test set."
   ]
  },
  {
   "cell_type": "code",
   "execution_count": 21,
   "metadata": {},
   "outputs": [
    {
     "name": "stdout",
     "output_type": "stream",
     "text": [
      "['ar', 'j']\n"
     ]
    }
   ],
   "source": [
    "# Let's find out labels present only in the test set\n",
    "\n",
    "unique_to_test_set = [\n",
    "    x for x in X_test['X2'].unique() if x not in X_train['X2'].unique()\n",
    "]\n",
    "\n",
    "print(unique_to_test_set)"
   ]
  },
  {
   "cell_type": "markdown",
   "metadata": {},
   "source": [
    "In this case, there are 2 rare values present in the test set only."
   ]
  },
  {
   "cell_type": "markdown",
   "metadata": {},
   "source": [
    "### Effect of rare labels on machine learning algorithms"
   ]
  },
  {
   "cell_type": "code",
   "execution_count": 22,
   "metadata": {},
   "outputs": [
    {
     "data": {
      "text/html": [
       "<div>\n",
       "<style>\n",
       "    .dataframe thead tr:only-child th {\n",
       "        text-align: right;\n",
       "    }\n",
       "\n",
       "    .dataframe thead th {\n",
       "        text-align: left;\n",
       "    }\n",
       "\n",
       "    .dataframe tbody tr th {\n",
       "        vertical-align: top;\n",
       "    }\n",
       "</style>\n",
       "<table border=\"1\" class=\"dataframe\">\n",
       "  <thead>\n",
       "    <tr style=\"text-align: right;\">\n",
       "      <th></th>\n",
       "      <th>y</th>\n",
       "      <th>X1</th>\n",
       "      <th>X2</th>\n",
       "      <th>X3</th>\n",
       "      <th>X6</th>\n",
       "      <th>X1_grouped</th>\n",
       "      <th>X2_grouped</th>\n",
       "      <th>X3_grouped</th>\n",
       "      <th>X6_grouped</th>\n",
       "    </tr>\n",
       "  </thead>\n",
       "  <tbody>\n",
       "    <tr>\n",
       "      <th>0</th>\n",
       "      <td>130.81</td>\n",
       "      <td>0</td>\n",
       "      <td>0</td>\n",
       "      <td>0</td>\n",
       "      <td>0</td>\n",
       "      <td>0</td>\n",
       "      <td>0</td>\n",
       "      <td>0</td>\n",
       "      <td>0</td>\n",
       "    </tr>\n",
       "    <tr>\n",
       "      <th>1</th>\n",
       "      <td>88.53</td>\n",
       "      <td>1</td>\n",
       "      <td>1</td>\n",
       "      <td>1</td>\n",
       "      <td>1</td>\n",
       "      <td>0</td>\n",
       "      <td>0</td>\n",
       "      <td>1</td>\n",
       "      <td>1</td>\n",
       "    </tr>\n",
       "    <tr>\n",
       "      <th>2</th>\n",
       "      <td>76.26</td>\n",
       "      <td>2</td>\n",
       "      <td>2</td>\n",
       "      <td>2</td>\n",
       "      <td>0</td>\n",
       "      <td>0</td>\n",
       "      <td>0</td>\n",
       "      <td>2</td>\n",
       "      <td>0</td>\n",
       "    </tr>\n",
       "    <tr>\n",
       "      <th>3</th>\n",
       "      <td>80.62</td>\n",
       "      <td>1</td>\n",
       "      <td>2</td>\n",
       "      <td>3</td>\n",
       "      <td>1</td>\n",
       "      <td>0</td>\n",
       "      <td>0</td>\n",
       "      <td>3</td>\n",
       "      <td>1</td>\n",
       "    </tr>\n",
       "    <tr>\n",
       "      <th>4</th>\n",
       "      <td>78.02</td>\n",
       "      <td>0</td>\n",
       "      <td>2</td>\n",
       "      <td>3</td>\n",
       "      <td>2</td>\n",
       "      <td>0</td>\n",
       "      <td>0</td>\n",
       "      <td>3</td>\n",
       "      <td>2</td>\n",
       "    </tr>\n",
       "    <tr>\n",
       "      <th>5</th>\n",
       "      <td>92.93</td>\n",
       "      <td>3</td>\n",
       "      <td>3</td>\n",
       "      <td>2</td>\n",
       "      <td>3</td>\n",
       "      <td>1</td>\n",
       "      <td>0</td>\n",
       "      <td>2</td>\n",
       "      <td>3</td>\n",
       "    </tr>\n",
       "    <tr>\n",
       "      <th>6</th>\n",
       "      <td>128.76</td>\n",
       "      <td>4</td>\n",
       "      <td>3</td>\n",
       "      <td>3</td>\n",
       "      <td>3</td>\n",
       "      <td>0</td>\n",
       "      <td>0</td>\n",
       "      <td>3</td>\n",
       "      <td>3</td>\n",
       "    </tr>\n",
       "    <tr>\n",
       "      <th>7</th>\n",
       "      <td>91.91</td>\n",
       "      <td>5</td>\n",
       "      <td>4</td>\n",
       "      <td>3</td>\n",
       "      <td>0</td>\n",
       "      <td>2</td>\n",
       "      <td>1</td>\n",
       "      <td>3</td>\n",
       "      <td>0</td>\n",
       "    </tr>\n",
       "    <tr>\n",
       "      <th>8</th>\n",
       "      <td>108.67</td>\n",
       "      <td>6</td>\n",
       "      <td>4</td>\n",
       "      <td>1</td>\n",
       "      <td>4</td>\n",
       "      <td>3</td>\n",
       "      <td>1</td>\n",
       "      <td>1</td>\n",
       "      <td>4</td>\n",
       "    </tr>\n",
       "    <tr>\n",
       "      <th>9</th>\n",
       "      <td>126.99</td>\n",
       "      <td>3</td>\n",
       "      <td>5</td>\n",
       "      <td>2</td>\n",
       "      <td>5</td>\n",
       "      <td>1</td>\n",
       "      <td>0</td>\n",
       "      <td>2</td>\n",
       "      <td>3</td>\n",
       "    </tr>\n",
       "  </tbody>\n",
       "</table>\n",
       "</div>"
      ],
      "text/plain": [
       "        y  X1  X2  X3  X6  X1_grouped  X2_grouped  X3_grouped  X6_grouped\n",
       "0  130.81   0   0   0   0           0           0           0           0\n",
       "1   88.53   1   1   1   1           0           0           1           1\n",
       "2   76.26   2   2   2   0           0           0           2           0\n",
       "3   80.62   1   2   3   1           0           0           3           1\n",
       "4   78.02   0   2   3   2           0           0           3           2\n",
       "5   92.93   3   3   2   3           1           0           2           3\n",
       "6  128.76   4   3   3   3           0           0           3           3\n",
       "7   91.91   5   4   3   0           2           1           3           0\n",
       "8  108.67   6   4   1   4           3           1           1           4\n",
       "9  126.99   3   5   2   5           1           0           2           3"
      ]
     },
     "execution_count": 22,
     "metadata": {},
     "output_type": "execute_result"
    }
   ],
   "source": [
    "# In order to use this variables to build machine learning using sklearn\n",
    "# first we need to replace the labels by numbers.\n",
    "\n",
    "# The correct way to do this, is to first separate into training and test\n",
    "# sets. And then create a replacing dictionary using the train set\n",
    "# and replace the strings both in train and test using the dictionary\n",
    "# created.\n",
    "\n",
    "# This will lead to the introduction of missing values / NaN in the\n",
    "# test set, for those labels that are not present in the train set\n",
    "# we saw this effect in the previous lecture\n",
    "\n",
    "# in the section dedicated to rare values later in the course, I will\n",
    "# show you how to avoid this problem\n",
    "\n",
    "# now, in order to speed up the demonstration, I will replace the\n",
    "# labels by strings in the entire dataset, and then divide into\n",
    "# train and test. \n",
    "# but remember: THIS IS NOT GOOD PRACTICE!\n",
    "\n",
    "# original variables\n",
    "for col in cols_to_use:\n",
    "    # create the dic and replace the strings in one line\n",
    "    data.loc[:, col] = data.loc[:, col].map(\n",
    "        {k: i\n",
    "         for i, k in enumerate(data[col].unique(), 0)})\n",
    "\n",
    "# variables with grouped categories\n",
    "for col in ['X1_grouped', 'X6_grouped', 'X3_grouped', 'X2_grouped']:\n",
    "    # create the dic and replace the strings in one line\n",
    "    data.loc[:, col] = data.loc[:, col].map(\n",
    "        {k: i\n",
    "         for i, k in enumerate(data[col].unique(), 0)})\n",
    "\n",
    "data.head(10)"
   ]
  },
  {
   "cell_type": "code",
   "execution_count": 23,
   "metadata": {},
   "outputs": [
    {
     "data": {
      "text/plain": [
       "['X1', 'X2', 'X3', 'X6']"
      ]
     },
     "execution_count": 23,
     "metadata": {},
     "output_type": "execute_result"
    }
   ],
   "source": [
    "# let's remind ourselves the original columns\n",
    "cols_to_use"
   ]
  },
  {
   "cell_type": "code",
   "execution_count": 24,
   "metadata": {},
   "outputs": [
    {
     "data": {
      "text/plain": [
       "['X1_grouped', 'X6_grouped', 'X3_grouped', 'X2_grouped']"
      ]
     },
     "execution_count": 24,
     "metadata": {},
     "output_type": "execute_result"
    }
   ],
   "source": [
    "# let's add the grouped variables to a list\n",
    "cols_grouped = ['X1_grouped', 'X6_grouped', 'X3_grouped', 'X2_grouped']\n",
    "cols_grouped"
   ]
  },
  {
   "cell_type": "code",
   "execution_count": 25,
   "metadata": {
    "collapsed": true
   },
   "outputs": [],
   "source": [
    "# let's combine the list of variables\n",
    "cols = cols_to_use+cols_grouped"
   ]
  },
  {
   "cell_type": "code",
   "execution_count": 26,
   "metadata": {},
   "outputs": [
    {
     "data": {
      "text/plain": [
       "((2946, 8), (1263, 8))"
      ]
     },
     "execution_count": 26,
     "metadata": {},
     "output_type": "execute_result"
    }
   ],
   "source": [
    "# let's separate into training and testing set\n",
    "\n",
    "X_train, X_test, y_train, y_test = train_test_split(\n",
    "    data[cols],\n",
    "    data.y,\n",
    "    test_size=0.3,\n",
    "    random_state=0)\n",
    "\n",
    "X_train.shape, X_test.shape"
   ]
  },
  {
   "cell_type": "markdown",
   "metadata": {},
   "source": [
    "Next I will build a series of machine learning algorithms, using comparatively the original categorical variables, and those where the infrequent labels were grouped, and then examine their performance."
   ]
  },
  {
   "cell_type": "markdown",
   "metadata": {},
   "source": [
    "### Random Forests"
   ]
  },
  {
   "cell_type": "code",
   "execution_count": 45,
   "metadata": {},
   "outputs": [
    {
     "name": "stdout",
     "output_type": "stream",
     "text": [
      "Train set\n",
      "Random Forests mse: 73.91420367780387\n",
      "Random Forests r2: 0.524089147901724\n",
      "Test set\n",
      "Random Forests mse: 151.10099965156573\n",
      "Random Forests r2: 0.1261592100558474\n"
     ]
    }
   ],
   "source": [
    "# model built on data with infrequent categories (original)\n",
    "\n",
    "# call the model\n",
    "rf = RandomForestRegressor(n_estimators=300,\n",
    "                           max_depth=34,\n",
    "                           random_state=39)\n",
    "\n",
    "# train the model\n",
    "rf.fit(X_train[cols_to_use], y_train)\n",
    "\n",
    "# make and print predictions in train and test sets\n",
    "print('Train set')\n",
    "pred = rf.predict(X_train[cols_to_use])\n",
    "print('Random Forests mse: {}'.format(mean_squared_error(y_train, pred)))\n",
    "print('Random Forests r2: {}'.format(r2_score(y_train, pred)))\n",
    "print('Test set')\n",
    "pred = rf.predict(X_test[cols_to_use])\n",
    "print('Random Forests mse: {}'.format(mean_squared_error(y_test, pred)))\n",
    "print('Random Forests r2: {}'.format(r2_score(y_test, pred)))"
   ]
  },
  {
   "cell_type": "markdown",
   "metadata": {},
   "source": [
    "We can see from the mean squared error and the r2 that the Random Forests are over-fitting to the train set. The mse for the train set is less than half the value of the mse of the test set. The r2 in the test set is significantly lower than the one in the train set."
   ]
  },
  {
   "cell_type": "code",
   "execution_count": 36,
   "metadata": {},
   "outputs": [
    {
     "name": "stdout",
     "output_type": "stream",
     "text": [
      "Train set\n",
      "Random Forests mse: 136.10890251001152\n",
      "Random Forests r2: 0.12363658744046446\n",
      "Test set\n",
      "Random Forests mse: 154.78054883151322\n",
      "Random Forests r2: 0.10487979979742335\n"
     ]
    }
   ],
   "source": [
    "# model built on data with rare values grouped into one category: rare\n",
    "\n",
    "# call the model\n",
    "rf = RandomForestRegressor(n_estimators=300,\n",
    "                           max_depth=4,\n",
    "                           random_state=39)\n",
    "\n",
    "# train the model\n",
    "rf.fit(X_train[cols_grouped], y_train)\n",
    "\n",
    "# make and print preditions\n",
    "print('Train set')\n",
    "pred = rf.predict(X_train[cols_grouped])\n",
    "print('Random Forests mse: {}'.format(mean_squared_error(y_train, pred)))\n",
    "print('Random Forests r2: {}'.format(r2_score(y_train, pred)))\n",
    "print('Test set')\n",
    "pred = rf.predict(X_test[cols_grouped])\n",
    "print('Random Forests mse: {}'.format(mean_squared_error(y_test, pred)))\n",
    "print('Random Forests r2: {}'.format(r2_score(y_test, pred)))"
   ]
  },
  {
   "cell_type": "markdown",
   "metadata": {},
   "source": [
    "We can see an improvement in Random Forests: when we train the model using all the labels, the model has a strong over-fit to the training set. However, when we train the model using fewer categories, the Random Forests over-fit much less (mse 73 vs mse 136; r2 0.12 vs 0.52). In addition, the second model still keeps a similar generalisation power to unseen data.\n",
    "\n",
    "Disclaimer: I am using a max_depth of 4, in order to make the forest overfit, so that I can show you the effect of rare labels on this algorithm. We can indeed improve the fit and generalisation by building less and more shallow trees."
   ]
  },
  {
   "cell_type": "markdown",
   "metadata": {},
   "source": [
    "### AdaBoost"
   ]
  },
  {
   "cell_type": "code",
   "execution_count": 40,
   "metadata": {},
   "outputs": [
    {
     "name": "stdout",
     "output_type": "stream",
     "text": [
      "Train set\n",
      "AdaBoost mse: 152.55660134599108\n",
      "AdaBoost r2: 0.017734907132739508\n",
      "Test set\n",
      "AdaBoost mse: 172.10171312106795\n",
      "AdaBoost r2: 0.004708788881281345\n"
     ]
    }
   ],
   "source": [
    "# model build on data with all the categories\n",
    "\n",
    "ada = AdaBoostRegressor(n_estimators=400, random_state=44)\n",
    "ada.fit(X_train[cols_to_use], y_train)\n",
    "print('Train set')\n",
    "pred = ada.predict(X_train[cols_to_use])\n",
    "print('AdaBoost mse: {}'.format(mean_squared_error(y_train, pred)))\n",
    "print('AdaBoost r2: {}'.format(r2_score(y_train, pred)))\n",
    "print('Test set')\n",
    "pred = ada.predict(X_test[cols_to_use])\n",
    "print('AdaBoost mse: {}'.format(mean_squared_error(y_test, pred)))\n",
    "print('AdaBoost r2: {}'.format(r2_score(y_test, pred)))"
   ]
  },
  {
   "cell_type": "code",
   "execution_count": 42,
   "metadata": {},
   "outputs": [
    {
     "name": "stdout",
     "output_type": "stream",
     "text": [
      "Train set\n",
      "AdaBoost mse: 149.4235105602519\n",
      "AdaBoost r2: 0.03790791626156742\n",
      "Test set\n",
      "AdaBoost mse: 166.59119412837987\n",
      "AdaBoost r2: 0.036576984860637984\n"
     ]
    }
   ],
   "source": [
    "# model build on data with fewer categories in Cabin Variable\n",
    "\n",
    "ada = AdaBoostRegressor(n_estimators=400, random_state=44)\n",
    "ada.fit(X_train[cols_grouped], y_train)\n",
    "print('Train set')\n",
    "pred = ada.predict(X_train[cols_grouped])\n",
    "print('AdaBoost mse: {}'.format(mean_squared_error(y_train, pred)))\n",
    "print('AdaBoost r2: {}'.format(r2_score(y_train, pred)))\n",
    "print('Test set')\n",
    "pred = ada.predict(X_test[cols_grouped])\n",
    "print('AdaBoost mse: {}'.format(mean_squared_error(y_test, pred)))\n",
    "print('AdaBoost r2: {}'.format(r2_score(y_test, pred)))"
   ]
  },
  {
   "cell_type": "markdown",
   "metadata": {
    "collapsed": true
   },
   "source": [
    "We see an improvement in Adaboost when trained using the variables with less categories. The mse is smaller in the latter and the r2 is higher, both for the training and testing sets."
   ]
  },
  {
   "cell_type": "markdown",
   "metadata": {},
   "source": [
    "### Linear Regression"
   ]
  },
  {
   "cell_type": "code",
   "execution_count": 43,
   "metadata": {},
   "outputs": [
    {
     "name": "stdout",
     "output_type": "stream",
     "text": [
      "Train set\n",
      "Linear Regression mse: 154.61105621770932\n",
      "Linear Regression r2: 0.004506903312812227\n",
      "Test set\n",
      "Linear Regression mse: 172.95013673475464\n",
      "Linear Regression r2e: -0.00019777800114084698\n"
     ]
    }
   ],
   "source": [
    "# model build on data with plenty of categories\n",
    "\n",
    "linreg = LinearRegression()\n",
    "linreg.fit(X_train[cols_to_use], y_train)\n",
    "print('Train set')\n",
    "pred = linreg.predict(X_train[cols_to_use])\n",
    "print('Linear Regression mse: {}'.format(mean_squared_error(y_train, pred)))\n",
    "print('Linear Regression r2: {}'.format(r2_score(y_train, pred)))\n",
    "print('Test set')\n",
    "pred = linreg.predict(X_test[cols_to_use])\n",
    "print('Linear Regression mse: {}'.format(mean_squared_error(y_test, pred)))\n",
    "print('Linear Regression r2e: {}'.format(r2_score(y_test, pred)))"
   ]
  },
  {
   "cell_type": "code",
   "execution_count": 44,
   "metadata": {},
   "outputs": [
    {
     "name": "stdout",
     "output_type": "stream",
     "text": [
      "Train set\n",
      "Linear Regression mse: 151.4575537952273\n",
      "Linear Regression r2: 0.024811336700465203\n",
      "Test set\n",
      "Linear Regression mse: 169.30336571670514\n",
      "Linear Regression r2e: 0.020892071003870694\n"
     ]
    }
   ],
   "source": [
    "# model build on data with infrequent categories grouped under one label\n",
    "\n",
    "linreg = LinearRegression()\n",
    "linreg.fit(X_train[cols_grouped], y_train)\n",
    "print('Train set')\n",
    "pred = linreg.predict(X_train[cols_grouped])\n",
    "print('Linear Regression mse: {}'.format(mean_squared_error(y_train, pred)))\n",
    "print('Linear Regression r2: {}'.format(r2_score(y_train, pred)))\n",
    "print('Test set')\n",
    "pred = linreg.predict(X_test[cols_grouped])\n",
    "print('Linear Regression mse: {}'.format(mean_squared_error(y_test, pred)))\n",
    "print('Linear Regression r2e: {}'.format(r2_score(y_test, pred)))"
   ]
  },
  {
   "cell_type": "markdown",
   "metadata": {},
   "source": [
    "Here again, the Linear Regression also benefited from removing rare labels: the mse has decreased in both train and test sets, and the r2 has increased. So now you know how having less categories and grouping the infrequent ones into one single group can increase the performance of the machine learning models."
   ]
  },
  {
   "cell_type": "markdown",
   "metadata": {
    "collapsed": true
   },
   "source": [
    "**That is all for this demonstration. I hope you enjoyed the notebook, and see you in the next one.**"
   ]
  }
 ],
 "metadata": {
  "kernelspec": {
   "display_name": "Python 3",
   "language": "python",
   "name": "python3"
  },
  "language_info": {
   "codemirror_mode": {
    "name": "ipython",
    "version": 3
   },
   "file_extension": ".py",
   "mimetype": "text/x-python",
   "name": "python",
   "nbconvert_exporter": "python",
   "pygments_lexer": "ipython3",
   "version": "3.6.3"
  },
  "toc": {
   "nav_menu": {},
   "number_sections": true,
   "sideBar": true,
   "skip_h1_title": false,
   "toc_cell": false,
   "toc_position": {},
   "toc_section_display": "block",
   "toc_window_display": true
  }
 },
 "nbformat": 4,
 "nbformat_minor": 2
}
